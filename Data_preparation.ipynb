{
 "cells": [
  {
   "cell_type": "code",
   "execution_count": null,
   "metadata": {},
   "outputs": [],
   "source": [
    "import os\n",
    "import pandas as pd\n",
    "import numpy as np\n",
    "from utils import *\n",
    "import warnings\n",
    "warnings.filterwarnings('ignore')"
   ]
  },
  {
   "cell_type": "markdown",
   "metadata": {},
   "source": [
    "LOADING DATA"
   ]
  },
  {
   "cell_type": "code",
   "execution_count": 24,
   "metadata": {},
   "outputs": [],
   "source": [
    "accel_file = \"data/all_accelerometer_data_pids_13.csv\"\n",
    "accel_data = pd.read_csv(accel_file)\n",
    "\n",
    "extracted_files = []\n",
    "for root, dirs, files in os.walk(\"data\"):\n",
    "    for file in files:\n",
    "        extracted_files.append(os.path.join(root, file))\n",
    "\n",
    "phone_file = \"data/phone_types.csv\"\n",
    "phone_data = pd.read_csv(phone_file)\n",
    "\n",
    "tac_files = [f for f in extracted_files if \"clean_tac\" in f and f.endswith(\".csv\")]\n",
    "tac_data_list = [pd.read_csv(f) for f in tac_files]"
   ]
  },
  {
   "cell_type": "markdown",
   "metadata": {},
   "source": [
    "Extracting the Personal IDs"
   ]
  },
  {
   "cell_type": "code",
   "execution_count": 25,
   "metadata": {},
   "outputs": [
    {
     "name": "stdout",
     "output_type": "stream",
     "text": [
      "Extracted PIDs: ['DK3500', 'JR8022', 'SA0297', 'BU4707', 'HV0618', 'SF3079', 'MJ8002', 'CC6740', 'PC6771', 'MC7070', 'DC6359', 'BK7610', 'JB3156']\n"
     ]
    }
   ],
   "source": [
    "extracted_data = {\n",
    "    os.path.basename(file).split(\"_\")[0]: pd.read_csv(file)\n",
    "    for file in extracted_files if \"clean_tac\" in file and file.endswith(\".csv\")\n",
    "}\n",
    "\n",
    "print(\"Extracted PIDs:\", list(extracted_data.keys()))"
   ]
  },
  {
   "cell_type": "code",
   "execution_count": 26,
   "metadata": {},
   "outputs": [],
   "source": [
    "m2s = lambda x: x // 1000\n",
    "accel_data['timestamp'] = accel_data['time'].apply(m2s)\n",
    "\n",
    "for axis in ['x', 'y', 'z']:\n",
    "    accel_data[axis] = accel_data[axis] / 40\n",
    "\n",
    "unique_pids = np.unique(phone_data['pid'])\n",
    "filtered_dfs = {pid: accel_data[accel_data['pid'] == pid] for pid in unique_pids}\n",
    "\n",
    "dfs = {os.path.basename(file_name): pd.read_csv(file_name) for file_name in extracted_files if \"clean_tac\" in file_name and file_name.endswith(\".csv\")}\n",
    "\n",
    "merged_dfs = {\n",
    "    pid: pd.merge(filtered_dfs[pid], dfs[f\"{pid}_clean_TAC.csv\"], on=\"timestamp\", how=\"inner\")\n",
    "    for pid in unique_pids\n",
    "}"
   ]
  },
  {
   "cell_type": "markdown",
   "metadata": {},
   "source": [
    "GENERATING SEGMENTS"
   ]
  },
  {
   "cell_type": "code",
   "execution_count": 27,
   "metadata": {},
   "outputs": [],
   "source": [
    "\n",
    "def generate_tac_segments(sorted_tac_series):\n",
    "    value_counts = sorted_tac_series.value_counts().sort_index(ascending=True)\n",
    "    return pd.Series(value_counts.tolist(), index=value_counts.index, name='count')\n",
    "\n",
    "tac_segments = {pid: generate_tac_segments(df['TAC_Reading']) for pid, df in merged_dfs.items()}"
   ]
  },
  {
   "cell_type": "code",
   "execution_count": 28,
   "metadata": {},
   "outputs": [],
   "source": [
    "tac_data = pd.concat(tac_data_list, ignore_index=True)\n",
    "\n",
    "accel_data[\"time\"] = pd.to_datetime(accel_data[\"time\"], unit=\"ms\")\n",
    "tac_data[\"timestamp\"] = pd.to_datetime(tac_data[\"timestamp\"], unit=\"s\")\n",
    "\n",
    "accel_data = accel_data.merge(phone_data, on=\"pid\", how=\"left\")"
   ]
  },
  {
   "cell_type": "code",
   "execution_count": 29,
   "metadata": {},
   "outputs": [],
   "source": [
    "save_path = \"data/processed_data\"\n",
    "os.makedirs(save_path, exist_ok=True)\n",
    "accel_data.to_csv(os.path.join(save_path, \"accelerometer_data.csv\"), index=False)\n",
    "tac_data.to_csv(os.path.join(save_path, \"tac_data.csv\"), index=False)\n",
    "\n",
    "accel_data[\"time\"] = pd.to_datetime(accel_data[\"time\"])\n",
    "tac_data[\"timestamp\"] = pd.to_datetime(tac_data[\"timestamp\"])\n",
    "\n",
    "save_processed_path = \"data/merged_data\"\n",
    "os.makedirs(save_processed_path, exist_ok=True)\n",
    "accel_data.to_csv(os.path.join(save_processed_path, \"accelerometer_data_processed.csv\"), index=False)\n",
    "tac_data.to_csv(os.path.join(save_processed_path, \"tac_data_processed.csv\"), index=False)"
   ]
  },
  {
   "cell_type": "code",
   "execution_count": 30,
   "metadata": {},
   "outputs": [],
   "source": [
    "merged_dfs = {pid: df.sort_values(by=['TAC_Reading']).reset_index(drop=True) for pid, df in merged_dfs.items()}"
   ]
  },
  {
   "cell_type": "code",
   "execution_count": 31,
   "metadata": {},
   "outputs": [],
   "source": [
    "tac_reading_counts = {\n",
    "    pid: pd.Series(df['TAC_Reading'].value_counts().sort_values(ascending=False).tolist(), name='count')\n",
    "    for pid, df in merged_dfs.items()\n",
    "}"
   ]
  },
  {
   "cell_type": "code",
   "execution_count": 33,
   "metadata": {},
   "outputs": [],
   "source": [
    "results = {}\n",
    "\n",
    "for pid, df in merged_dfs.items():\n",
    "    sorted_df = df.sort_values(by=['TAC_Reading']).reset_index(drop=True)\n",
    "    tac_counts = tac_reading_counts[pid]\n",
    "\n",
    "    pe_results = {'x': [], 'y': [], 'z': []}\n",
    "    comp_results = {'x': [], 'y': [], 'z': []}\n",
    "    tac_readings = []\n",
    "\n",
    "    start_index = 0\n",
    "    unique_tac_values = sorted_df['TAC_Reading'].unique()\n",
    "    \n",
    "    for segment_index, segment_value in enumerate(tac_counts):\n",
    "        end_index = start_index + segment_value\n",
    "        if end_index > len(sorted_df):  \n",
    "            end_index = len(sorted_df)\n",
    "\n",
    "        if segment_index < len(unique_tac_values):  \n",
    "            tac_readings.append(unique_tac_values[segment_index])\n",
    "        else:\n",
    "            tac_readings.append(np.nan)\n",
    "\n",
    "        for axis in ['x', 'y', 'z']:\n",
    "            segment = sorted_df[axis].iloc[start_index:end_index].dropna()\n",
    "\n",
    "            if len(segment) < 3:\n",
    "                pe_results[axis].append(np.nan)\n",
    "                comp_results[axis].append(np.nan)\n",
    "            else:\n",
    "                op = ordinal_patterns(segment.values, 3, 1)\n",
    "                pe_results[axis].append(p_entropy(op))\n",
    "                comp_results[axis].append(complexity(op))\n",
    "\n",
    "        start_index = end_index\n",
    "\n",
    "    tac_readings = tac_readings[:len(pe_results['x'])]\n",
    "\n",
    "    results[pid] = {\n",
    "        axis: pd.DataFrame({\n",
    "            'Pe_results': pe_results[axis], \n",
    "            'Comp_results': comp_results[axis], \n",
    "            'TAC_Reading': tac_readings\n",
    "        }).sort_values(by=['TAC_Reading'], ascending=True).reset_index(drop=True)\n",
    "        for axis in ['x', 'y', 'z']\n",
    "    }\n"
   ]
  },
  {
   "cell_type": "code",
   "execution_count": null,
   "metadata": {},
   "outputs": [],
   "source": [
    "for pid in results.keys():\n",
    "    for axis in ['x', 'y', 'z']:\n",
    "        results[pid][axis]['Sober_classification'] = results[pid][axis]['TAC_Reading'].apply(lambda x: 1 if x > 0.08 else 0)\n"
   ]
  },
  {
   "cell_type": "code",
   "execution_count": null,
   "metadata": {},
   "outputs": [],
   "source": [
    "output_dir = \"data/final_data\"\n",
    "os.makedirs(output_dir, exist_ok=True)\n",
    "\n",
    "for pid, axes_data in results.items():\n",
    "    output_path = os.path.join(output_dir, f\"{pid}_processed.csv\")\n",
    "    combined_df = pd.concat(axes_data.values(), keys=axes_data.keys(), names=['Axis'])\n",
    "    combined_df.to_csv(output_path)"
   ]
  },
  {
   "cell_type": "markdown",
   "metadata": {},
   "source": [
    "CREATING THE MERGED DATA"
   ]
  },
  {
   "cell_type": "code",
   "execution_count": null,
   "metadata": {},
   "outputs": [
    {
     "name": "stdout",
     "output_type": "stream",
     "text": [
      "Merged data saved to merged_data.csv\n"
     ]
    }
   ],
   "source": [
    "\n",
    "folder_path = 'data/final_data'  \n",
    "tac_data = pd.read_csv('data/merged_data/tac_data.csv')\n",
    "tac_data['timestamp'] = pd.to_datetime(tac_data['timestamp'])\n",
    "\n",
    "columns_to_keep = ['Axis', 'Pe_results', 'Comp_results', 'TAC_Reading', 'Sober_classification']\n",
    "dataframes = []\n",
    "\n",
    "for filename in os.listdir(folder_path):\n",
    "    if filename.endswith('_processed.csv'):\n",
    "        file_path = os.path.join(folder_path, filename)\n",
    "        pid = filename.split('_')[0]\n",
    "\n",
    "        df = pd.read_csv(file_path)\n",
    "\n",
    "        tac_pid_data = tac_data[tac_data['pid'] == pid].reset_index(drop=True)\n",
    "\n",
    "        if len(tac_pid_data) < len(df):\n",
    "            continue\n",
    "\n",
    "        df = df[columns_to_keep].copy()\n",
    "        df['timestamp'] = tac_pid_data['timestamp'].iloc[:len(df)].values\n",
    "        df['PID'] = pid\n",
    "\n",
    "        dataframes.append(df)\n",
    "\n",
    "merged_df = pd.concat(dataframes, ignore_index=True)\n",
    "merged_df = merged_df[['PID', 'timestamp'] + columns_to_keep]\n",
    "\n",
    "merged_df.to_csv('merged_data.csv', index=False)\n",
    "print(\"Merged data saved to merged_data.csv\")\n"
   ]
  }
 ],
 "metadata": {
  "kernelspec": {
   "display_name": "Python 3",
   "language": "python",
   "name": "python3"
  },
  "language_info": {
   "codemirror_mode": {
    "name": "ipython",
    "version": 3
   },
   "file_extension": ".py",
   "mimetype": "text/x-python",
   "name": "python",
   "nbconvert_exporter": "python",
   "pygments_lexer": "ipython3",
   "version": "3.11.5"
  }
 },
 "nbformat": 4,
 "nbformat_minor": 2
}
